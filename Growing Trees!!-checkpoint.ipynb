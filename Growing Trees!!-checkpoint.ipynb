{
 "cells": [
  {
   "cell_type": "code",
   "execution_count": 6,
   "metadata": {},
   "outputs": [],
   "source": [
    "import turtle\n"
   ]
  },
  {
   "cell_type": "code",
   "execution_count": null,
   "metadata": {},
   "outputs": [],
   "source": [
    "def draw_tree(turt, width, height):\n",
    "    draw_trunk(turt, width, height)\n",
    "    draw_leafs(turt, width, height)\n",
    "\n",
    "def draw_trunk (turt, width, height):\n",
    "    turt.color('brown')\n",
    "    turt.begin_fill()\n",
    "    turt.forward(width)\n",
    "    turt.right(90)\n",
    "    turt.forward(height)\n",
    "    turt.right(90)\n",
    "    turt.forward(width)\n",
    "    turt.right(90)\n",
    "    turt.forward(height)\n",
    "    turt.end_fill()\n",
    "\n",
    "def draw_leafs(turt, width, height, triangles=3):\n",
    "    turt.color('green')\n",
    "    for i in range(triangles):\n",
    "        draw_triangle(turt, width, height)\n",
    "        height_increase=height/2 \n",
    "        turt.sety(turt.ycor() + height_increase)\n",
    "\n",
    "def draw_triangle(turt, width, height):\n",
    "    branch_overhang = height\n",
    "    triangle_height = 2 * height\n",
    "    \n",
    "    turt.begin_fill()\n",
    "    x_init, y_init = (turt.xcor(),turt.ycor())\n",
    "    x_middle = x_init + width / 2.0\n",
    "    x_bottom_left = x_init - branch_overhang\n",
    "    x_bottom_right = x_init + width + branch_overhang\n",
    "    y_top = y_init + triangle_height\n",
    "    \n",
    "    turt.goto(x_bottom_left, y_init)\n",
    "    turt.goto(x_middle, y_top)\n",
    "    turt.goto(x_bottom_right, y_init)\n",
    "    turt.goto(x_init, y_init)\n",
    "    turt.end_fill()\n",
    "\n",
    "width = 50\n",
    "height = 100\n",
    "\n",
    "turt = turtle.Turtle()\n",
    "draw_tree(turt, width, height)\n",
    "turtle.done()"
   ]
  },
  {
   "cell_type": "code",
   "execution_count": null,
   "metadata": {},
   "outputs": [],
   "source": []
  }
 ],
 "metadata": {
  "kernelspec": {
   "display_name": "Python 3",
   "language": "python",
   "name": "python3"
  },
  "language_info": {
   "codemirror_mode": {
    "name": "ipython",
    "version": 3
   },
   "file_extension": ".py",
   "mimetype": "text/x-python",
   "name": "python",
   "nbconvert_exporter": "python",
   "pygments_lexer": "ipython3",
   "version": "3.8.5"
  }
 },
 "nbformat": 4,
 "nbformat_minor": 4
}
